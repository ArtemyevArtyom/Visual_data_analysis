{
  "nbformat": 4,
  "nbformat_minor": 0,
  "metadata": {
    "colab": {
      "provenance": [],
      "gpuType": "T4",
      "authorship_tag": "ABX9TyOqyIJ/5F9E1GCvlnp1iYps",
      "include_colab_link": true
    },
    "kernelspec": {
      "name": "python3",
      "display_name": "Python 3"
    },
    "language_info": {
      "name": "python"
    },
    "accelerator": "GPU"
  },
  "cells": [
    {
      "cell_type": "markdown",
      "metadata": {
        "id": "view-in-github",
        "colab_type": "text"
      },
      "source": [
        "<a href=\"https://colab.research.google.com/github/ArtemyevArtyom/Visual_data_analysis/blob/main/HW_4.ipynb\" target=\"_parent\"><img src=\"https://colab.research.google.com/assets/colab-badge.svg\" alt=\"Open In Colab\"/></a>"
      ]
    },
    {
      "cell_type": "code",
      "execution_count": 1,
      "metadata": {
        "id": "ocBrjXGXYTFq"
      },
      "outputs": [],
      "source": [
        "import numpy as np\n",
        "import pandas as pd\n",
        "import matplotlib.pyplot as plt\n",
        "import seaborn as sns"
      ]
    },
    {
      "cell_type": "markdown",
      "source": [
        "## **Задание 1.**"
      ],
      "metadata": {
        "id": "M3ZrnvedhbHW"
      }
    },
    {
      "cell_type": "markdown",
      "source": [
        "### **1.1. Скачать следующие данные: kc-house-data и laptop_price**"
      ],
      "metadata": {
        "id": "rmBrCb-3oSZ1"
      }
    },
    {
      "cell_type": "code",
      "source": [
        "df = pd.read_csv('/home/kc_house_data.csv')\n",
        "df.sample(10)"
      ],
      "metadata": {
        "colab": {
          "base_uri": "https://localhost:8080/",
          "height": 412
        },
        "id": "LDrwJhJ7ZLsE",
        "outputId": "993862a3-7851-40bf-a2ca-4f2fbbb05490"
      },
      "execution_count": 2,
      "outputs": [
        {
          "output_type": "execute_result",
          "data": {
            "text/plain": [
              "               id             date     price  bedrooms  bathrooms  \\\n",
              "12534  6003001999  20150209T000000  530000.0         2       1.75   \n",
              "1643    646910030  20141104T000000  238000.0         3       2.50   \n",
              "18263  6600220090  20141118T000000  475000.0         2       2.50   \n",
              "14884  4055700920  20141007T000000  750000.0         2       2.00   \n",
              "11485   207500012  20140505T000000  855000.0         4       2.75   \n",
              "14968  4139460290  20140828T000000  898000.0         3       2.50   \n",
              "16643  4189800050  20140520T000000  335000.0         3       1.00   \n",
              "421    6073200075  20140730T000000  625000.0         3       1.75   \n",
              "8267   8687800100  20140713T000000  285000.0         3       1.75   \n",
              "2742   2822059350  20140910T000000  340000.0         5       2.75   \n",
              "\n",
              "       sqft_living  sqft_lot  floors  waterfront  view  ...  grade  \\\n",
              "12534         1170       976     2.0           0     0  ...      9   \n",
              "1643          1650      2807     2.0           0     0  ...      7   \n",
              "18263         1620     14467     2.0           0     0  ...      7   \n",
              "14884         2180     21392     2.0           0     0  ...      8   \n",
              "11485         2600      5390     1.0           0     0  ...      8   \n",
              "14968         3530      9753     2.0           0     0  ...     10   \n",
              "16643         1060     10050     1.0           0     0  ...      7   \n",
              "421           1600      9135     1.0           0     0  ...      7   \n",
              "8267          1720     13104     1.0           0     0  ...      7   \n",
              "2742          2440      6858     2.0           0     0  ...      8   \n",
              "\n",
              "       sqft_above  sqft_basement  yr_built  yr_renovated  zipcode      lat  \\\n",
              "12534         780            390      2010             0    98102  47.6192   \n",
              "1643         1650              0      2004             0    98055  47.4328   \n",
              "18263        1620              0      1981             0    98074  47.6306   \n",
              "14884        2180              0      1934          1979    98034  47.7162   \n",
              "11485        1300           1300      1960             0    98199  47.6382   \n",
              "14968        3530              0      1997             0    98006  47.5539   \n",
              "16643        1060              0      1967             0    98028  47.7355   \n",
              "421          1600              0      1955             0    98006  47.5724   \n",
              "8267         1720              0      1962             0    98168  47.4709   \n",
              "2742         2440              0      2003             0    98030  47.3655   \n",
              "\n",
              "          long  sqft_living15  sqft_lot15  \n",
              "12534 -122.316           1280        1183  \n",
              "1643  -122.196           1460        1875  \n",
              "18263 -122.035           1470       13615  \n",
              "14884 -122.246           2890       22000  \n",
              "11485 -122.397           2550        5600  \n",
              "14968 -122.103           3220        9234  \n",
              "16643 -122.231           1570        9938  \n",
              "421   -122.179           1580        9800  \n",
              "8267  -122.260           1840       13104  \n",
              "2742  -122.174           2300        6858  \n",
              "\n",
              "[10 rows x 21 columns]"
            ],
            "text/html": [
              "\n",
              "  <div id=\"df-9e622c85-1ff4-4b7a-81fb-017699382cd5\" class=\"colab-df-container\">\n",
              "    <div>\n",
              "<style scoped>\n",
              "    .dataframe tbody tr th:only-of-type {\n",
              "        vertical-align: middle;\n",
              "    }\n",
              "\n",
              "    .dataframe tbody tr th {\n",
              "        vertical-align: top;\n",
              "    }\n",
              "\n",
              "    .dataframe thead th {\n",
              "        text-align: right;\n",
              "    }\n",
              "</style>\n",
              "<table border=\"1\" class=\"dataframe\">\n",
              "  <thead>\n",
              "    <tr style=\"text-align: right;\">\n",
              "      <th></th>\n",
              "      <th>id</th>\n",
              "      <th>date</th>\n",
              "      <th>price</th>\n",
              "      <th>bedrooms</th>\n",
              "      <th>bathrooms</th>\n",
              "      <th>sqft_living</th>\n",
              "      <th>sqft_lot</th>\n",
              "      <th>floors</th>\n",
              "      <th>waterfront</th>\n",
              "      <th>view</th>\n",
              "      <th>...</th>\n",
              "      <th>grade</th>\n",
              "      <th>sqft_above</th>\n",
              "      <th>sqft_basement</th>\n",
              "      <th>yr_built</th>\n",
              "      <th>yr_renovated</th>\n",
              "      <th>zipcode</th>\n",
              "      <th>lat</th>\n",
              "      <th>long</th>\n",
              "      <th>sqft_living15</th>\n",
              "      <th>sqft_lot15</th>\n",
              "    </tr>\n",
              "  </thead>\n",
              "  <tbody>\n",
              "    <tr>\n",
              "      <th>12534</th>\n",
              "      <td>6003001999</td>\n",
              "      <td>20150209T000000</td>\n",
              "      <td>530000.0</td>\n",
              "      <td>2</td>\n",
              "      <td>1.75</td>\n",
              "      <td>1170</td>\n",
              "      <td>976</td>\n",
              "      <td>2.0</td>\n",
              "      <td>0</td>\n",
              "      <td>0</td>\n",
              "      <td>...</td>\n",
              "      <td>9</td>\n",
              "      <td>780</td>\n",
              "      <td>390</td>\n",
              "      <td>2010</td>\n",
              "      <td>0</td>\n",
              "      <td>98102</td>\n",
              "      <td>47.6192</td>\n",
              "      <td>-122.316</td>\n",
              "      <td>1280</td>\n",
              "      <td>1183</td>\n",
              "    </tr>\n",
              "    <tr>\n",
              "      <th>1643</th>\n",
              "      <td>646910030</td>\n",
              "      <td>20141104T000000</td>\n",
              "      <td>238000.0</td>\n",
              "      <td>3</td>\n",
              "      <td>2.50</td>\n",
              "      <td>1650</td>\n",
              "      <td>2807</td>\n",
              "      <td>2.0</td>\n",
              "      <td>0</td>\n",
              "      <td>0</td>\n",
              "      <td>...</td>\n",
              "      <td>7</td>\n",
              "      <td>1650</td>\n",
              "      <td>0</td>\n",
              "      <td>2004</td>\n",
              "      <td>0</td>\n",
              "      <td>98055</td>\n",
              "      <td>47.4328</td>\n",
              "      <td>-122.196</td>\n",
              "      <td>1460</td>\n",
              "      <td>1875</td>\n",
              "    </tr>\n",
              "    <tr>\n",
              "      <th>18263</th>\n",
              "      <td>6600220090</td>\n",
              "      <td>20141118T000000</td>\n",
              "      <td>475000.0</td>\n",
              "      <td>2</td>\n",
              "      <td>2.50</td>\n",
              "      <td>1620</td>\n",
              "      <td>14467</td>\n",
              "      <td>2.0</td>\n",
              "      <td>0</td>\n",
              "      <td>0</td>\n",
              "      <td>...</td>\n",
              "      <td>7</td>\n",
              "      <td>1620</td>\n",
              "      <td>0</td>\n",
              "      <td>1981</td>\n",
              "      <td>0</td>\n",
              "      <td>98074</td>\n",
              "      <td>47.6306</td>\n",
              "      <td>-122.035</td>\n",
              "      <td>1470</td>\n",
              "      <td>13615</td>\n",
              "    </tr>\n",
              "    <tr>\n",
              "      <th>14884</th>\n",
              "      <td>4055700920</td>\n",
              "      <td>20141007T000000</td>\n",
              "      <td>750000.0</td>\n",
              "      <td>2</td>\n",
              "      <td>2.00</td>\n",
              "      <td>2180</td>\n",
              "      <td>21392</td>\n",
              "      <td>2.0</td>\n",
              "      <td>0</td>\n",
              "      <td>0</td>\n",
              "      <td>...</td>\n",
              "      <td>8</td>\n",
              "      <td>2180</td>\n",
              "      <td>0</td>\n",
              "      <td>1934</td>\n",
              "      <td>1979</td>\n",
              "      <td>98034</td>\n",
              "      <td>47.7162</td>\n",
              "      <td>-122.246</td>\n",
              "      <td>2890</td>\n",
              "      <td>22000</td>\n",
              "    </tr>\n",
              "    <tr>\n",
              "      <th>11485</th>\n",
              "      <td>207500012</td>\n",
              "      <td>20140505T000000</td>\n",
              "      <td>855000.0</td>\n",
              "      <td>4</td>\n",
              "      <td>2.75</td>\n",
              "      <td>2600</td>\n",
              "      <td>5390</td>\n",
              "      <td>1.0</td>\n",
              "      <td>0</td>\n",
              "      <td>0</td>\n",
              "      <td>...</td>\n",
              "      <td>8</td>\n",
              "      <td>1300</td>\n",
              "      <td>1300</td>\n",
              "      <td>1960</td>\n",
              "      <td>0</td>\n",
              "      <td>98199</td>\n",
              "      <td>47.6382</td>\n",
              "      <td>-122.397</td>\n",
              "      <td>2550</td>\n",
              "      <td>5600</td>\n",
              "    </tr>\n",
              "    <tr>\n",
              "      <th>14968</th>\n",
              "      <td>4139460290</td>\n",
              "      <td>20140828T000000</td>\n",
              "      <td>898000.0</td>\n",
              "      <td>3</td>\n",
              "      <td>2.50</td>\n",
              "      <td>3530</td>\n",
              "      <td>9753</td>\n",
              "      <td>2.0</td>\n",
              "      <td>0</td>\n",
              "      <td>0</td>\n",
              "      <td>...</td>\n",
              "      <td>10</td>\n",
              "      <td>3530</td>\n",
              "      <td>0</td>\n",
              "      <td>1997</td>\n",
              "      <td>0</td>\n",
              "      <td>98006</td>\n",
              "      <td>47.5539</td>\n",
              "      <td>-122.103</td>\n",
              "      <td>3220</td>\n",
              "      <td>9234</td>\n",
              "    </tr>\n",
              "    <tr>\n",
              "      <th>16643</th>\n",
              "      <td>4189800050</td>\n",
              "      <td>20140520T000000</td>\n",
              "      <td>335000.0</td>\n",
              "      <td>3</td>\n",
              "      <td>1.00</td>\n",
              "      <td>1060</td>\n",
              "      <td>10050</td>\n",
              "      <td>1.0</td>\n",
              "      <td>0</td>\n",
              "      <td>0</td>\n",
              "      <td>...</td>\n",
              "      <td>7</td>\n",
              "      <td>1060</td>\n",
              "      <td>0</td>\n",
              "      <td>1967</td>\n",
              "      <td>0</td>\n",
              "      <td>98028</td>\n",
              "      <td>47.7355</td>\n",
              "      <td>-122.231</td>\n",
              "      <td>1570</td>\n",
              "      <td>9938</td>\n",
              "    </tr>\n",
              "    <tr>\n",
              "      <th>421</th>\n",
              "      <td>6073200075</td>\n",
              "      <td>20140730T000000</td>\n",
              "      <td>625000.0</td>\n",
              "      <td>3</td>\n",
              "      <td>1.75</td>\n",
              "      <td>1600</td>\n",
              "      <td>9135</td>\n",
              "      <td>1.0</td>\n",
              "      <td>0</td>\n",
              "      <td>0</td>\n",
              "      <td>...</td>\n",
              "      <td>7</td>\n",
              "      <td>1600</td>\n",
              "      <td>0</td>\n",
              "      <td>1955</td>\n",
              "      <td>0</td>\n",
              "      <td>98006</td>\n",
              "      <td>47.5724</td>\n",
              "      <td>-122.179</td>\n",
              "      <td>1580</td>\n",
              "      <td>9800</td>\n",
              "    </tr>\n",
              "    <tr>\n",
              "      <th>8267</th>\n",
              "      <td>8687800100</td>\n",
              "      <td>20140713T000000</td>\n",
              "      <td>285000.0</td>\n",
              "      <td>3</td>\n",
              "      <td>1.75</td>\n",
              "      <td>1720</td>\n",
              "      <td>13104</td>\n",
              "      <td>1.0</td>\n",
              "      <td>0</td>\n",
              "      <td>0</td>\n",
              "      <td>...</td>\n",
              "      <td>7</td>\n",
              "      <td>1720</td>\n",
              "      <td>0</td>\n",
              "      <td>1962</td>\n",
              "      <td>0</td>\n",
              "      <td>98168</td>\n",
              "      <td>47.4709</td>\n",
              "      <td>-122.260</td>\n",
              "      <td>1840</td>\n",
              "      <td>13104</td>\n",
              "    </tr>\n",
              "    <tr>\n",
              "      <th>2742</th>\n",
              "      <td>2822059350</td>\n",
              "      <td>20140910T000000</td>\n",
              "      <td>340000.0</td>\n",
              "      <td>5</td>\n",
              "      <td>2.75</td>\n",
              "      <td>2440</td>\n",
              "      <td>6858</td>\n",
              "      <td>2.0</td>\n",
              "      <td>0</td>\n",
              "      <td>0</td>\n",
              "      <td>...</td>\n",
              "      <td>8</td>\n",
              "      <td>2440</td>\n",
              "      <td>0</td>\n",
              "      <td>2003</td>\n",
              "      <td>0</td>\n",
              "      <td>98030</td>\n",
              "      <td>47.3655</td>\n",
              "      <td>-122.174</td>\n",
              "      <td>2300</td>\n",
              "      <td>6858</td>\n",
              "    </tr>\n",
              "  </tbody>\n",
              "</table>\n",
              "<p>10 rows × 21 columns</p>\n",
              "</div>\n",
              "    <div class=\"colab-df-buttons\">\n",
              "\n",
              "  <div class=\"colab-df-container\">\n",
              "    <button class=\"colab-df-convert\" onclick=\"convertToInteractive('df-9e622c85-1ff4-4b7a-81fb-017699382cd5')\"\n",
              "            title=\"Convert this dataframe to an interactive table.\"\n",
              "            style=\"display:none;\">\n",
              "\n",
              "  <svg xmlns=\"http://www.w3.org/2000/svg\" height=\"24px\" viewBox=\"0 -960 960 960\">\n",
              "    <path d=\"M120-120v-720h720v720H120Zm60-500h600v-160H180v160Zm220 220h160v-160H400v160Zm0 220h160v-160H400v160ZM180-400h160v-160H180v160Zm440 0h160v-160H620v160ZM180-180h160v-160H180v160Zm440 0h160v-160H620v160Z\"/>\n",
              "  </svg>\n",
              "    </button>\n",
              "\n",
              "  <style>\n",
              "    .colab-df-container {\n",
              "      display:flex;\n",
              "      gap: 12px;\n",
              "    }\n",
              "\n",
              "    .colab-df-convert {\n",
              "      background-color: #E8F0FE;\n",
              "      border: none;\n",
              "      border-radius: 50%;\n",
              "      cursor: pointer;\n",
              "      display: none;\n",
              "      fill: #1967D2;\n",
              "      height: 32px;\n",
              "      padding: 0 0 0 0;\n",
              "      width: 32px;\n",
              "    }\n",
              "\n",
              "    .colab-df-convert:hover {\n",
              "      background-color: #E2EBFA;\n",
              "      box-shadow: 0px 1px 2px rgba(60, 64, 67, 0.3), 0px 1px 3px 1px rgba(60, 64, 67, 0.15);\n",
              "      fill: #174EA6;\n",
              "    }\n",
              "\n",
              "    .colab-df-buttons div {\n",
              "      margin-bottom: 4px;\n",
              "    }\n",
              "\n",
              "    [theme=dark] .colab-df-convert {\n",
              "      background-color: #3B4455;\n",
              "      fill: #D2E3FC;\n",
              "    }\n",
              "\n",
              "    [theme=dark] .colab-df-convert:hover {\n",
              "      background-color: #434B5C;\n",
              "      box-shadow: 0px 1px 3px 1px rgba(0, 0, 0, 0.15);\n",
              "      filter: drop-shadow(0px 1px 2px rgba(0, 0, 0, 0.3));\n",
              "      fill: #FFFFFF;\n",
              "    }\n",
              "  </style>\n",
              "\n",
              "    <script>\n",
              "      const buttonEl =\n",
              "        document.querySelector('#df-9e622c85-1ff4-4b7a-81fb-017699382cd5 button.colab-df-convert');\n",
              "      buttonEl.style.display =\n",
              "        google.colab.kernel.accessAllowed ? 'block' : 'none';\n",
              "\n",
              "      async function convertToInteractive(key) {\n",
              "        const element = document.querySelector('#df-9e622c85-1ff4-4b7a-81fb-017699382cd5');\n",
              "        const dataTable =\n",
              "          await google.colab.kernel.invokeFunction('convertToInteractive',\n",
              "                                                    [key], {});\n",
              "        if (!dataTable) return;\n",
              "\n",
              "        const docLinkHtml = 'Like what you see? Visit the ' +\n",
              "          '<a target=\"_blank\" href=https://colab.research.google.com/notebooks/data_table.ipynb>data table notebook</a>'\n",
              "          + ' to learn more about interactive tables.';\n",
              "        element.innerHTML = '';\n",
              "        dataTable['output_type'] = 'display_data';\n",
              "        await google.colab.output.renderOutput(dataTable, element);\n",
              "        const docLink = document.createElement('div');\n",
              "        docLink.innerHTML = docLinkHtml;\n",
              "        element.appendChild(docLink);\n",
              "      }\n",
              "    </script>\n",
              "  </div>\n",
              "\n",
              "\n",
              "<div id=\"df-016f558e-d399-4391-8ce2-8ff33049e8ab\">\n",
              "  <button class=\"colab-df-quickchart\" onclick=\"quickchart('df-016f558e-d399-4391-8ce2-8ff33049e8ab')\"\n",
              "            title=\"Suggest charts\"\n",
              "            style=\"display:none;\">\n",
              "\n",
              "<svg xmlns=\"http://www.w3.org/2000/svg\" height=\"24px\"viewBox=\"0 0 24 24\"\n",
              "     width=\"24px\">\n",
              "    <g>\n",
              "        <path d=\"M19 3H5c-1.1 0-2 .9-2 2v14c0 1.1.9 2 2 2h14c1.1 0 2-.9 2-2V5c0-1.1-.9-2-2-2zM9 17H7v-7h2v7zm4 0h-2V7h2v10zm4 0h-2v-4h2v4z\"/>\n",
              "    </g>\n",
              "</svg>\n",
              "  </button>\n",
              "\n",
              "<style>\n",
              "  .colab-df-quickchart {\n",
              "      --bg-color: #E8F0FE;\n",
              "      --fill-color: #1967D2;\n",
              "      --hover-bg-color: #E2EBFA;\n",
              "      --hover-fill-color: #174EA6;\n",
              "      --disabled-fill-color: #AAA;\n",
              "      --disabled-bg-color: #DDD;\n",
              "  }\n",
              "\n",
              "  [theme=dark] .colab-df-quickchart {\n",
              "      --bg-color: #3B4455;\n",
              "      --fill-color: #D2E3FC;\n",
              "      --hover-bg-color: #434B5C;\n",
              "      --hover-fill-color: #FFFFFF;\n",
              "      --disabled-bg-color: #3B4455;\n",
              "      --disabled-fill-color: #666;\n",
              "  }\n",
              "\n",
              "  .colab-df-quickchart {\n",
              "    background-color: var(--bg-color);\n",
              "    border: none;\n",
              "    border-radius: 50%;\n",
              "    cursor: pointer;\n",
              "    display: none;\n",
              "    fill: var(--fill-color);\n",
              "    height: 32px;\n",
              "    padding: 0;\n",
              "    width: 32px;\n",
              "  }\n",
              "\n",
              "  .colab-df-quickchart:hover {\n",
              "    background-color: var(--hover-bg-color);\n",
              "    box-shadow: 0 1px 2px rgba(60, 64, 67, 0.3), 0 1px 3px 1px rgba(60, 64, 67, 0.15);\n",
              "    fill: var(--button-hover-fill-color);\n",
              "  }\n",
              "\n",
              "  .colab-df-quickchart-complete:disabled,\n",
              "  .colab-df-quickchart-complete:disabled:hover {\n",
              "    background-color: var(--disabled-bg-color);\n",
              "    fill: var(--disabled-fill-color);\n",
              "    box-shadow: none;\n",
              "  }\n",
              "\n",
              "  .colab-df-spinner {\n",
              "    border: 2px solid var(--fill-color);\n",
              "    border-color: transparent;\n",
              "    border-bottom-color: var(--fill-color);\n",
              "    animation:\n",
              "      spin 1s steps(1) infinite;\n",
              "  }\n",
              "\n",
              "  @keyframes spin {\n",
              "    0% {\n",
              "      border-color: transparent;\n",
              "      border-bottom-color: var(--fill-color);\n",
              "      border-left-color: var(--fill-color);\n",
              "    }\n",
              "    20% {\n",
              "      border-color: transparent;\n",
              "      border-left-color: var(--fill-color);\n",
              "      border-top-color: var(--fill-color);\n",
              "    }\n",
              "    30% {\n",
              "      border-color: transparent;\n",
              "      border-left-color: var(--fill-color);\n",
              "      border-top-color: var(--fill-color);\n",
              "      border-right-color: var(--fill-color);\n",
              "    }\n",
              "    40% {\n",
              "      border-color: transparent;\n",
              "      border-right-color: var(--fill-color);\n",
              "      border-top-color: var(--fill-color);\n",
              "    }\n",
              "    60% {\n",
              "      border-color: transparent;\n",
              "      border-right-color: var(--fill-color);\n",
              "    }\n",
              "    80% {\n",
              "      border-color: transparent;\n",
              "      border-right-color: var(--fill-color);\n",
              "      border-bottom-color: var(--fill-color);\n",
              "    }\n",
              "    90% {\n",
              "      border-color: transparent;\n",
              "      border-bottom-color: var(--fill-color);\n",
              "    }\n",
              "  }\n",
              "</style>\n",
              "\n",
              "  <script>\n",
              "    async function quickchart(key) {\n",
              "      const quickchartButtonEl =\n",
              "        document.querySelector('#' + key + ' button');\n",
              "      quickchartButtonEl.disabled = true;  // To prevent multiple clicks.\n",
              "      quickchartButtonEl.classList.add('colab-df-spinner');\n",
              "      try {\n",
              "        const charts = await google.colab.kernel.invokeFunction(\n",
              "            'suggestCharts', [key], {});\n",
              "      } catch (error) {\n",
              "        console.error('Error during call to suggestCharts:', error);\n",
              "      }\n",
              "      quickchartButtonEl.classList.remove('colab-df-spinner');\n",
              "      quickchartButtonEl.classList.add('colab-df-quickchart-complete');\n",
              "    }\n",
              "    (() => {\n",
              "      let quickchartButtonEl =\n",
              "        document.querySelector('#df-016f558e-d399-4391-8ce2-8ff33049e8ab button');\n",
              "      quickchartButtonEl.style.display =\n",
              "        google.colab.kernel.accessAllowed ? 'block' : 'none';\n",
              "    })();\n",
              "  </script>\n",
              "</div>\n",
              "    </div>\n",
              "  </div>\n"
            ],
            "application/vnd.google.colaboratory.intrinsic+json": {
              "type": "dataframe"
            }
          },
          "metadata": {},
          "execution_count": 2
        }
      ]
    },
    {
      "cell_type": "code",
      "source": [
        "df.info()"
      ],
      "metadata": {
        "colab": {
          "base_uri": "https://localhost:8080/"
        },
        "id": "dhw1i_iuMhIn",
        "outputId": "af5264ba-c6a2-48db-d5f4-3e0880ad1316"
      },
      "execution_count": 3,
      "outputs": [
        {
          "output_type": "stream",
          "name": "stdout",
          "text": [
            "<class 'pandas.core.frame.DataFrame'>\n",
            "RangeIndex: 21613 entries, 0 to 21612\n",
            "Data columns (total 21 columns):\n",
            " #   Column         Non-Null Count  Dtype  \n",
            "---  ------         --------------  -----  \n",
            " 0   id             21613 non-null  int64  \n",
            " 1   date           21613 non-null  object \n",
            " 2   price          21613 non-null  float64\n",
            " 3   bedrooms       21613 non-null  int64  \n",
            " 4   bathrooms      21613 non-null  float64\n",
            " 5   sqft_living    21613 non-null  int64  \n",
            " 6   sqft_lot       21613 non-null  int64  \n",
            " 7   floors         21613 non-null  float64\n",
            " 8   waterfront     21613 non-null  int64  \n",
            " 9   view           21613 non-null  int64  \n",
            " 10  condition      21613 non-null  int64  \n",
            " 11  grade          21613 non-null  int64  \n",
            " 12  sqft_above     21613 non-null  int64  \n",
            " 13  sqft_basement  21613 non-null  int64  \n",
            " 14  yr_built       21613 non-null  int64  \n",
            " 15  yr_renovated   21613 non-null  int64  \n",
            " 16  zipcode        21613 non-null  int64  \n",
            " 17  lat            21613 non-null  float64\n",
            " 18  long           21613 non-null  float64\n",
            " 19  sqft_living15  21613 non-null  int64  \n",
            " 20  sqft_lot15     21613 non-null  int64  \n",
            "dtypes: float64(5), int64(15), object(1)\n",
            "memory usage: 3.5+ MB\n"
          ]
        }
      ]
    },
    {
      "cell_type": "markdown",
      "source": [
        "### **1.2. Изучите стоимости недвижимости**"
      ],
      "metadata": {
        "id": "7lixjKr1qNLp"
      }
    },
    {
      "cell_type": "code",
      "execution_count": null,
      "metadata": {
        "id": "3c40ca49",
        "outputId": "5d198480-ed53-4567-8d60-e9b7013bd46e"
      },
      "outputs": [
        {
          "data": {
            "text/plain": [
              "350000.0     172\n",
              "450000.0     172\n",
              "550000.0     159\n",
              "500000.0     152\n",
              "425000.0     150\n",
              "            ... \n",
              "607010.0       1\n",
              "1362500.0      1\n",
              "298800.0       1\n",
              "957500.0       1\n",
              "402101.0       1\n",
              "Name: price, Length: 4028, dtype: int64"
            ]
          },
          "execution_count": 4,
          "metadata": {},
          "output_type": "execute_result"
        }
      ],
      "source": [
        "df['price'].value_counts()"
      ]
    },
    {
      "cell_type": "markdown",
      "source": [
        "Длина - 4028 уникальных значений.\n",
        "Количество бинов сделаем равным 10% от длины ≈ 400"
      ],
      "metadata": {
        "id": "p3Eo6pqX9iX7"
      }
    },
    {
      "cell_type": "code",
      "source": [
        "plt.figure(figsize=(10,6))\n",
        "plt.hist(df['price'], bins=400)\n",
        "plt.title('Стоимость недвижимости')\n",
        "plt.xlabel('стоимость')\n",
        "plt.ylabel('Количество объектов')"
      ],
      "metadata": {
        "colab": {
          "base_uri": "https://localhost:8080/",
          "height": 582
        },
        "id": "zx5iznvrrbMO",
        "outputId": "2fd6e43f-4d1d-4a44-ea20-865f62fd0de0"
      },
      "execution_count": 6,
      "outputs": [
        {
          "output_type": "execute_result",
          "data": {
            "text/plain": [
              "Text(0, 0.5, 'Количество объектов')"
            ]
          },
          "metadata": {},
          "execution_count": 6
        },
        {
          "output_type": "display_data",
          "data": {
            "text/plain": [
              "<Figure size 1000x600 with 1 Axes>"
            ],
            "image/png": "[encoded data removed]"
          },
          "metadata": {}
        }
      ]
    },
    {
      "cell_type": "markdown",
      "source": [
        "### **1.3. Изучите распределение квадратуры жилой**"
      ],
      "metadata": {
        "id": "7DEshyTv9RFl"
      }
    },
    {
      "cell_type": "code",
      "execution_count": null,
      "metadata": {
        "id": "8ef30b9d",
        "outputId": "f23f3be6-6042-4be3-e66e-d3547260d748"
      },
      "outputs": [
        {
          "data": {
            "text/plain": [
              "1300    138\n",
              "1400    135\n",
              "1440    133\n",
              "1800    129\n",
              "1660    129\n",
              "       ... \n",
              "9890      1\n",
              "5584      1\n",
              "1961      1\n",
              "5720      1\n",
              "1425      1\n",
              "Name: sqft_living, Length: 1038, dtype: int64"
            ]
          },
          "execution_count": 6,
          "metadata": {},
          "output_type": "execute_result"
        }
      ],
      "source": [
        "df['sqft_living'].value_counts()"
      ]
    },
    {
      "cell_type": "markdown",
      "source": [
        "Длина - 1038 уникальных значений. Количество бинов также сделаем примерно равным 10% от длины ≈ 100"
      ],
      "metadata": {
        "id": "pmqMt2NPKv0U"
      }
    },
    {
      "cell_type": "code",
      "source": [
        "plt.figure(figsize=(10,8))\n",
        "sns.histplot(df['sqft_living'], bins=100)\n",
        "plt.title('Анализ недвижимости в зависимости от площади жилого помещения')\n",
        "plt.xlabel('Жилая площадь, в кв.футах')\n",
        "plt.ylabel('Количество домов');"
      ],
      "metadata": {
        "colab": {
          "base_uri": "https://localhost:8080/",
          "height": 718
        },
        "id": "_ZICgrPKJW-s",
        "outputId": "852ff89a-4fd2-4d65-8389-a0dac20c5bd3"
      },
      "execution_count": 9,
      "outputs": [
        {
          "output_type": "display_data",
          "data": {
            "text/plain": [
              "<Figure size 1000x800 with 1 Axes>"
            ],
            "image/png": "[encoded data removed]"
          },
          "metadata": {}
        }
      ]
    },
    {
      "cell_type": "markdown",
      "source": [
        "Большая часть домов имеет площадь от 1000 до 3000 кв.футов"
      ],
      "metadata": {
        "id": "4aKcMp8KLT7D"
      }
    },
    {
      "cell_type": "markdown",
      "source": [
        "### **1.4. Изучите распределение года**"
      ],
      "metadata": {
        "id": "SiAkxTnBLiIE"
      }
    },
    {
      "cell_type": "code",
      "execution_count": null,
      "metadata": {
        "id": "7100f82f",
        "outputId": "24dd4805-363a-4581-cc88-09b47e11e673"
      },
      "outputs": [
        {
          "data": {
            "text/plain": [
              "2014    559\n",
              "2006    454\n",
              "2005    450\n",
              "2004    433\n",
              "2003    422\n",
              "       ... \n",
              "1933     30\n",
              "1901     29\n",
              "1902     27\n",
              "1935     24\n",
              "1934     21\n",
              "Name: yr_built, Length: 116, dtype: int64"
            ]
          },
          "execution_count": 8,
          "metadata": {},
          "output_type": "execute_result"
        }
      ],
      "source": [
        "df['yr_built'].value_counts()"
      ]
    },
    {
      "cell_type": "markdown",
      "source": [
        "Длина - 116 уникальных значений. Количество бинов 10% от длины ≈ 12"
      ],
      "metadata": {
        "id": "O9i93cgNYvos"
      }
    },
    {
      "cell_type": "code",
      "source": [
        "plt.figure(figsize=(10,8))\n",
        "sns.histplot(df['yr_built'], bins=12)\n",
        "plt.title('Количество объектов в зависимости от года постройки')\n",
        "plt.xlabel('Год постройки')\n",
        "plt.ylabel('Количество объектов');"
      ],
      "metadata": {
        "colab": {
          "base_uri": "https://localhost:8080/",
          "height": 718
        },
        "id": "fWXcndMhRtbk",
        "outputId": "68ab2d60-f1a1-4a86-8007-89f57b8fdf35"
      },
      "execution_count": 12,
      "outputs": [
        {
          "output_type": "display_data",
          "data": {
            "text/plain": [
              "<Figure size 1000x800 with 1 Axes>"
            ],
            "image/png": "[encoded data removed]"
          },
          "metadata": {}
        }
      ]
    },
    {
      "cell_type": "markdown",
      "source": [
        "По графику видна кореляция между годом постройки и количеством объектов. Зависимость имеет линейный характер. Большая часть объектов построена после 1950 года."
      ],
      "metadata": {
        "id": "31w6ROHdZE1E"
      }
    },
    {
      "cell_type": "markdown",
      "source": [],
      "metadata": {
        "id": "edi07MeTgHj9"
      }
    },
    {
      "cell_type": "markdown",
      "source": [
        "## **Задание 2.**\n",
        "### **2.1. Изучите распределение домов от наличия вида на набережную**\n",
        "Постройте график\n",
        "\n",
        "Сделайте выводы"
      ],
      "metadata": {
        "id": "dSDxu2GlgH0K"
      }
    },
    {
      "cell_type": "code",
      "execution_count": 13,
      "metadata": {
        "id": "b5910312",
        "outputId": "3238ba7c-d9db-474b-c1ca-fad786961017",
        "colab": {
          "base_uri": "https://localhost:8080/",
          "height": 178
        }
      },
      "outputs": [
        {
          "output_type": "execute_result",
          "data": {
            "text/plain": [
              "waterfront\n",
              "0    21450\n",
              "1      163\n",
              "Name: count, dtype: int64"
            ],
            "text/html": [
              "<table border=\"1\" class=\"dataframe\">\n",
              "  <thead>\n",
              "    <tr style=\"text-align: right;\">\n",
              "      <th></th>\n",
              "      <th>count</th>\n",
              "    </tr>\n",
              "    <tr>\n",
              "      <th>waterfront</th>\n",
              "      <th></th>\n",
              "    </tr>\n",
              "  </thead>\n",
              "  <tbody>\n",
              "    <tr>\n",
              "      <th>0</th>\n",
              "      <td>21450</td>\n",
              "    </tr>\n",
              "    <tr>\n",
              "      <th>1</th>\n",
              "      <td>163</td>\n",
              "    </tr>\n",
              "  </tbody>\n",
              "</table><br><label><b>dtype:</b> int64</label>"
            ]
          },
          "metadata": {},
          "execution_count": 13
        }
      ],
      "source": [
        "data = df[\"waterfront\"].value_counts()\n",
        "data.head()"
      ]
    },
    {
      "cell_type": "markdown",
      "source": [
        "Результат - 163 объекта с видом на набережную и 21450 без."
      ],
      "metadata": {
        "id": "OsL6S2b9tDAo"
      }
    },
    {
      "cell_type": "code",
      "source": [
        "plt.figure(figsize=(8,12))\n",
        "expl = [0.1, 0.5]\n",
        "plt.pie(data.values, autopct='%1.1f%%', labels=['Нет', 'Да'], explode=expl)\n",
        "plt.legend(data.index)\n",
        "plt.title('Наличие вида на набережную')\n",
        "plt.legend(['Нет', 'Да'], loc='best');"
      ],
      "metadata": {
        "colab": {
          "base_uri": "https://localhost:8080/",
          "height": 679
        },
        "id": "wPyaVwl1tgab",
        "outputId": "e93b3cbf-ce04-45ce-ea02-54278a325243"
      },
      "execution_count": 14,
      "outputs": [
        {
          "output_type": "display_data",
          "data": {
            "text/plain": [
              "<Figure size 800x1200 with 1 Axes>"
            ],
            "image/png": "[encoded data removed]"
          },
          "metadata": {}
        }
      ]
    },
    {
      "cell_type": "markdown",
      "source": [
        "По данной круговой диаграмме легко можно увидеть, что почти у одного процента домов есть вид на набережную."
      ],
      "metadata": {
        "id": "khO91unqzxJn"
      }
    },
    {
      "cell_type": "markdown",
      "source": [
        "### **2.2. Изучите распределение этажей домов**"
      ],
      "metadata": {
        "id": "aI_VXJrz0DdK"
      }
    },
    {
      "cell_type": "code",
      "source": [
        "data_1 = df[\"floors\"].value_counts()\n",
        "data_1.head()"
      ],
      "metadata": {
        "id": "JVf6Uv6N02Zu",
        "colab": {
          "base_uri": "https://localhost:8080/",
          "height": 272
        },
        "outputId": "6664b3ff-c925-437b-ca12-8d93b4332df1"
      },
      "execution_count": 15,
      "outputs": [
        {
          "output_type": "execute_result",
          "data": {
            "text/plain": [
              "floors\n",
              "1.0    10680\n",
              "2.0     8241\n",
              "1.5     1910\n",
              "3.0      613\n",
              "2.5      161\n",
              "Name: count, dtype: int64"
            ],
            "text/html": [
              "<table border=\"1\" class=\"dataframe\">\n",
              "  <thead>\n",
              "    <tr style=\"text-align: right;\">\n",
              "      <th></th>\n",
              "      <th>count</th>\n",
              "    </tr>\n",
              "    <tr>\n",
              "      <th>floors</th>\n",
              "      <th></th>\n",
              "    </tr>\n",
              "  </thead>\n",
              "  <tbody>\n",
              "    <tr>\n",
              "      <th>1.0</th>\n",
              "      <td>10680</td>\n",
              "    </tr>\n",
              "    <tr>\n",
              "      <th>2.0</th>\n",
              "      <td>8241</td>\n",
              "    </tr>\n",
              "    <tr>\n",
              "      <th>1.5</th>\n",
              "      <td>1910</td>\n",
              "    </tr>\n",
              "    <tr>\n",
              "      <th>3.0</th>\n",
              "      <td>613</td>\n",
              "    </tr>\n",
              "    <tr>\n",
              "      <th>2.5</th>\n",
              "      <td>161</td>\n",
              "    </tr>\n",
              "  </tbody>\n",
              "</table><br><label><b>dtype:</b> int64</label>"
            ]
          },
          "metadata": {},
          "execution_count": 15
        }
      ]
    },
    {
      "cell_type": "code",
      "source": [
        "plt.figure(figsize=(10,6))\n",
        "sns.barplot(x=data_1.index, y=data_1.values, palette='pastel')\n",
        "plt.title('Анализ недвижимости в зависимости от количества этажей')\n",
        "plt.xlabel('Число этажей в доме')\n",
        "plt.ylabel('Количество домов');"
      ],
      "metadata": {
        "colab": {
          "base_uri": "https://localhost:8080/",
          "height": 656
        },
        "id": "BY-sSHCH8lmy",
        "outputId": "ba32b8d6-47b5-4133-fd5f-ae68ad899ad7"
      },
      "execution_count": 16,
      "outputs": [
        {
          "output_type": "stream",
          "name": "stderr",
          "text": [
            "<ipython-input-16-5f6be3a6a40b>:2: FutureWarning: \n",
            "\n",
            "Passing `palette` without assigning `hue` is deprecated and will be removed in v0.14.0. Assign the `x` variable to `hue` and set `legend=False` for the same effect.\n",
            "\n",
            "  sns.barplot(x=data_1.index, y=data_1.values, palette='pastel')\n"
          ]
        },
        {
          "output_type": "display_data",
          "data": {
            "text/plain": [
              "<Figure size 1000x600 with 1 Axes>"
            ],
            "image/png": "[encoded data removed]"
          },
          "metadata": {}
        }
      ]
    },
    {
      "cell_type": "markdown",
      "source": [
        "Большинство домов - одноэтажные или двухэтажные."
      ],
      "metadata": {
        "id": "h6E9WbLa8HVd"
      }
    },
    {
      "cell_type": "markdown",
      "source": [
        "### **2.3. Изучите распределение состояния домов**"
      ],
      "metadata": {
        "id": "NTGZ35-8IASu"
      }
    },
    {
      "cell_type": "code",
      "source": [
        "data_3 = df['condition'].value_counts()\n",
        "data_3"
      ],
      "metadata": {
        "colab": {
          "base_uri": "https://localhost:8080/",
          "height": 272
        },
        "id": "zP-IcEEhI_8o",
        "outputId": "bf131634-e226-4e9e-87b0-1fde8973c586"
      },
      "execution_count": 17,
      "outputs": [
        {
          "output_type": "execute_result",
          "data": {
            "text/plain": [
              "condition\n",
              "3    14031\n",
              "4     5679\n",
              "5     1701\n",
              "2      172\n",
              "1       30\n",
              "Name: count, dtype: int64"
            ],
            "text/html": [
              "<table border=\"1\" class=\"dataframe\">\n",
              "  <thead>\n",
              "    <tr style=\"text-align: right;\">\n",
              "      <th></th>\n",
              "      <th>count</th>\n",
              "    </tr>\n",
              "    <tr>\n",
              "      <th>condition</th>\n",
              "      <th></th>\n",
              "    </tr>\n",
              "  </thead>\n",
              "  <tbody>\n",
              "    <tr>\n",
              "      <th>3</th>\n",
              "      <td>14031</td>\n",
              "    </tr>\n",
              "    <tr>\n",
              "      <th>4</th>\n",
              "      <td>5679</td>\n",
              "    </tr>\n",
              "    <tr>\n",
              "      <th>5</th>\n",
              "      <td>1701</td>\n",
              "    </tr>\n",
              "    <tr>\n",
              "      <th>2</th>\n",
              "      <td>172</td>\n",
              "    </tr>\n",
              "    <tr>\n",
              "      <th>1</th>\n",
              "      <td>30</td>\n",
              "    </tr>\n",
              "  </tbody>\n",
              "</table><br><label><b>dtype:</b> int64</label>"
            ]
          },
          "metadata": {},
          "execution_count": 17
        }
      ]
    },
    {
      "cell_type": "markdown",
      "source": [
        "Оценка выставляется по 5-бальной шкале."
      ],
      "metadata": {
        "id": "PQTBOnsiP94j"
      }
    },
    {
      "cell_type": "code",
      "source": [
        "plt.figure(figsize=(6,6))\n",
        "expl=[0.05, 0.05, 0.05, 0.6, 0.9]\n",
        "col = sns.color_palette('coolwarm')\n",
        "plt.pie(data_3.values, autopct='%1.1f%%', labels=data_3.index, explode=expl, colors=col)\n",
        "plt.title('Анализ недвижимости в зависимости от состояния домов')\n",
        "plt.legend(data_3.index, loc='best');"
      ],
      "metadata": {
        "colab": {
          "base_uri": "https://localhost:8080/",
          "height": 521
        },
        "id": "NMRNoiLMOOlr",
        "outputId": "ef2f8d4e-eb75-4968-9929-f690f187a45e"
      },
      "execution_count": 18,
      "outputs": [
        {
          "output_type": "display_data",
          "data": {
            "text/plain": [
              "<Figure size 600x600 with 1 Axes>"
            ],
            "image/png": "[encoded data removed]"
          },
          "metadata": {}
        }
      ]
    },
    {
      "cell_type": "markdown",
      "source": [
        "Большинство домов имеет оценку 3."
      ],
      "metadata": {
        "id": "CCFk0jV1P2i6"
      }
    },
    {
      "cell_type": "markdown",
      "source": [
        "**Вывод:** в результате проделанной работы были наглядно выявлены распределения  количества объектов недвижимости от стоимости, площади, года постройки, наличия вида на набережную, количества этажей, а также их оценочного состояния. Для визуализации применялись: столбчатая и круговые диаграммы. Большинство объектов в удовлетворительном или хорошем состоянии. Зависимость количества объектов от года постройки близка к линейной. Зависимость, близкая к параболическй у графиков стоимости от количетсва объектов и площади помещения от количества объектов недвижимости."
      ],
      "metadata": {
        "id": "4ORRcnceB4jb"
      }
    }
  ]
}